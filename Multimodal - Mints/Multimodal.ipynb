{
 "cells": [
  {
   "cell_type": "markdown",
   "id": "9e8a24cb",
   "metadata": {},
   "source": [
    "# Corpus Nummorum (CN) Data Challange\n",
    "\n",
    "---\n",
    "\n",
    "**Goethe University Frankfurt am Main**\n",
    "\n",
    "Summer Semester 2023\n",
    "\n",
    "<br>\n",
    "\n",
    "## *Multimodal Fusion Model for  historical coin classification*\n",
    "\n",
    "---\n",
    "\n",
    "**Authors:** Bastian Rothenburger, Garegin Ktoian \n",
    "<br>\n",
    "\n",
    "**Contact:** Bastian Rothenburger ([s7072002@rz.uni-frankfurt.de](mailto:s7072002@rz.uni-frankfurt.de))<br>\n",
    "\n",
    "---"
   ]
  },
  {
   "cell_type": "markdown",
   "id": "650784bc",
   "metadata": {},
   "source": [
    "<br>\n",
    "\n",
    "## Table of Contents\n",
    "\n",
    "---\n",
    "\n",
    "- [1 Dataset Preparation](#1-Dataset-Preparation)\n",
    "  - [1.1 Copy data to working directory](#1.1-Copy-data-to-working-directory)\n",
    "  - [1.2 Drop classes below training threshold and merge back and frontside](#1.2-Drop-classes-below-training-threshold-and-merge-back-and-frontside)\n",
    "  - [1.3 Apply train test split](#1.3-Apply-train-test-split)\n",
    "  - [1.4 Add original coin descriptions](#1.4-Add-original-coin-descriptions)\n",
    "- [2 Generation and embedding of alternative descriptions](#2-Generation-and-embedding-of-alternative-descriptions)\n",
    "  - [2.1 Unique descriptions](#2.1-Unique-descriptions)\n",
    "  - [2.2 Alternative descriptions](#2.2-Alternative-descriptions)\n",
    "  - [2.3 Embbeding](#2.3-Embbeding)\n",
    "- [3 Training](#3-Training)\n",
    "  - [3.1 Setting training variables](#3.1-Setting-training-variables)\n",
    "  - [3.2 ImageEncoder Training](#3.2-ImageEncoder-Training)\n",
    "  - [3.3 TextEncoder Training](#3.3-TextEncoder-Training)\n",
    "  - [3.4 Fusion Model Training](#3.4-Fusion-Model-Training)\n",
    "- [4 Summary](#4-Summary)"
   ]
  },
  {
   "cell_type": "markdown",
   "id": "6d1a9531",
   "metadata": {},
   "source": [
    "<br>\n",
    "\n",
    "## Setup\n",
    "\n",
    "---"
   ]
  },
  {
   "cell_type": "code",
   "execution_count": 1,
   "id": "77d35f9e",
   "metadata": {},
   "outputs": [
    {
     "name": "stdout",
     "output_type": "stream",
     "text": [
      "cuda:0\n"
     ]
    }
   ],
   "source": [
    "\n",
    "from ModelTrainer import ModelTrainer\n",
    "import torchvision\n",
    "from torchvision.models.resnet import resnet50, ResNet50_Weights, resnet18, ResNet18_Weights, resnet101, ResNet101_Weights \n",
    "from torchvision.models import swin_v2_b ,Swin_V2_B_Weights\n",
    "import torchvision.models as models\n",
    "import torch\n",
    "import torchvision.transforms as transforms\n",
    "import torch.nn as nn\n",
    "import pandas as pd\n",
    "import os\n",
    "import matplotlib.pyplot as plt\n",
    "import numpy as np\n",
    "from DataPrep import copy_data_folder, create_csv_dataset, drop_empty_classes, merge_images, add_class_index, split_dataset, val_train_csv, add_type_description_to_csv, sanity_check, clean_image_folders\n",
    "from ChatGptHelper import extract_unique_labels, generate_alternative_descriptions, generate_embeddings\n",
    "from Architectures import TextClassefier, Transformer_TextClassifier, Fusion, Fusion_From_Scratch\n",
    "# Check GPU support on your machine.\n",
    "device = torch.device('cuda:0' if torch.cuda.is_available() else 'cpu')\n",
    "\n",
    "print(device)\n",
    "%load_ext autoreload\n",
    "%autoreload 2"
   ]
  },
  {
   "cell_type": "code",
   "execution_count": 2,
   "id": "da504161",
   "metadata": {},
   "outputs": [],
   "source": [
    "#specify path to root folder\n",
    "\n",
    "dir = r\"F:\\Users\\basti\\Documents\\Goethe Uni\\Data Challange\\muldimodal- Mints\""
   ]
  },
  {
   "cell_type": "markdown",
   "id": "e757bb4f",
   "metadata": {},
   "source": [
    "# 1 Dataset Preparation\n",
    "\n",
    "---"
   ]
  },
  {
   "attachments": {},
   "cell_type": "markdown",
   "id": "fad52b65",
   "metadata": {},
   "source": [
    "### 1.1 Copy data to working directory"
   ]
  },
  {
   "cell_type": "code",
   "execution_count": 14,
   "id": "2e96c4ef",
   "metadata": {},
   "outputs": [],
   "source": [
    "Path_to_coin_dataset = r\"F:\\Users\\basti\\Documents\\Goethe Uni\\Data Challange\\CN_dataset_04_23\\dataset_mints - Original\"\n",
    "destination_path = dir+ \"\\\\data\\\\dataset_mints\"\n",
    "\n",
    "if not os.path.exists(destination_path):\n",
    "    copy_data_folder(Path_to_coin_dataset, dir+ \"\\\\data\\\\dataset_mints\" )"
   ]
  },
  {
   "cell_type": "markdown",
   "id": "8f94a88b",
   "metadata": {},
   "source": [
    "### 1.2 Drop classes below training threshold and merge back and frontside"
   ]
  },
  {
   "cell_type": "code",
   "execution_count": 15,
   "id": "6b1be985",
   "metadata": {},
   "outputs": [
    {
     "name": "stdout",
     "output_type": "stream",
     "text": [
      "Number of Classes with samples 83\n"
     ]
    }
   ],
   "source": [
    "#data prep\n",
    "# Create the dataset CSV file\n",
    "IMAGE_DIR = dir + \"\\\\data\\\\dataset_mints\"\n",
    "CSV_FILE = \"allcoins.csv\"\n",
    "\n",
    "create_csv_dataset(IMAGE_DIR, CSV_FILE)\n",
    "\n",
    "#clean classes with not enough samples\n",
    "#specify threshold\n",
    "clean_image_folders(CSV_FILE, IMAGE_DIR, 20)\n",
    "CSV_FILE2 = \"trainablecoins.csv\"\n",
    "create_csv_dataset(IMAGE_DIR, CSV_FILE2)\n",
    "\n",
    "\n",
    "# we add a class index in order to make the labels trainable\n",
    "# the reverse mapping is saved at class_index_map.pkl as a python dict this can be used to translate\n",
    "# the prediction of the model to the real coin\n",
    "add_class_index(CSV_FILE2)"
   ]
  },
  {
   "cell_type": "markdown",
   "id": "8b7d9246",
   "metadata": {},
   "source": [
    "### 1.3 Apply train test split"
   ]
  },
  {
   "cell_type": "code",
   "execution_count": 18,
   "id": "497169bb",
   "metadata": {},
   "outputs": [],
   "source": [
    "# only run this one time\n",
    "# this allows for adding augmentations just to the training and not to the validation set\n",
    "\n",
    "Already_splitted = True\n",
    "if not Already_splitted:\n",
    "    dataset_path = dir + \"\\\\data\\\\dataset_mints\"\n",
    "    train_path = dir + \"\\\\data\\\\train\"\n",
    "    validation_path = dir + \"\\\\data\\\\val\"\n",
    "    validation_percentage = 0.25 \n",
    "    seed = 123\n",
    "    split_dataset(dataset_path, train_path, validation_path, validation_percentage, seed)\n",
    "    \n",
    "    val_train_csv('trainablecoins.csv', train_path, dir, 'train.csv')\n",
    "    val_train_csv('trainablecoins.csv', validation_path, dir, 'val.csv')"
   ]
  },
  {
   "cell_type": "markdown",
   "id": "b3ee7ad5",
   "metadata": {},
   "source": [
    "### 1.4 Add original coin descriptions"
   ]
  },
  {
   "cell_type": "code",
   "execution_count": 19,
   "id": "e1e6c6d7",
   "metadata": {},
   "outputs": [
    {
     "name": "stderr",
     "output_type": "stream",
     "text": [
      "f:\\Users\\basti\\Documents\\Goethe Uni\\Data Challange\\muldimodal- Mints\\DataPrep.py:284: FutureWarning: In a future version of pandas all arguments of StringMethods.split except for the argument 'pat' will be keyword-only.\n",
      "  df2[['id', 'description']] = df2['combined'].str.split(',', 1, expand=True)\n",
      "f:\\Users\\basti\\Documents\\Goethe Uni\\Data Challange\\muldimodal- Mints\\DataPrep.py:284: FutureWarning: In a future version of pandas all arguments of StringMethods.split except for the argument 'pat' will be keyword-only.\n",
      "  df2[['id', 'description']] = df2['combined'].str.split(',', 1, expand=True)\n"
     ]
    },
    {
     "name": "stdout",
     "output_type": "stream",
     "text": [
      "Your training data contains 83 distinct classes that have more than 20 values and have a description available\n",
      "Your validation data contains 83 distinct classes that have more than 20 values and have a description available\n",
      "You should be good to go\n"
     ]
    }
   ],
   "source": [
    "add_type_description_to_csv('train.csv', 'CN_coin_descriptions.csv', 'train.csv')\n",
    "add_type_description_to_csv('val.csv', 'CN_coin_descriptions.csv', 'val.csv')\n",
    "\n",
    "#Sanity check\n",
    "sanity_check('train.csv', 'val.csv', 20)"
   ]
  },
  {
   "attachments": {},
   "cell_type": "markdown",
   "id": "69a4fe39",
   "metadata": {},
   "source": [
    "# 2 Generation and embedding of alternative descriptions\n",
    "\n",
    "---"
   ]
  },
  {
   "cell_type": "markdown",
   "id": "b09a6a4e",
   "metadata": {},
   "source": [
    "### 2.1 Unique descriptions (omitted for mints)"
   ]
  },
  {
   "cell_type": "code",
   "execution_count": 52,
   "id": "886d5134",
   "metadata": {},
   "outputs": [],
   "source": [
    "# doing this for just the training set is sufficient as classes match\n",
    "#reason for this are the api costs\n",
    "#extract_unique_labels('train.csv', 'unique_labels.csv')"
   ]
  },
  {
   "cell_type": "markdown",
   "id": "41e29d32",
   "metadata": {},
   "source": [
    "### 2.2 Alternative descriptions (omitted for mints)"
   ]
  },
  {
   "cell_type": "code",
   "execution_count": 53,
   "id": "c8b2cd49",
   "metadata": {},
   "outputs": [],
   "source": [
    "\"\"\"\n",
    "You need an API key to run this\n",
    "We used GPT4 \n",
    "Standard open AI accounts will only have access to weaker models (as of the the time of the experiment)\n",
    "We recommend using text-davinci-003 in this case\n",
    "In order to specify the model go to ChatGptHelper and change it in get_alternative_description\n",
    "Takes roughly 50 min for 95 classes\n",
    "Also you have to clean the resulting file manually we are not sure what causes the issues\n",
    "All descriptions should be there but some will extend to the second columns\n",
    "\n",
    "API_key = 'Your API key'\n",
    "\n",
    "if not os.path.exists(dir + \"\\\\alternative_descriptions_train.csv\"):\n",
    "    generate_alternative_descriptions(API_key, 'unique_labels.csv', 'alternative_descriptions_train.csv')\n",
    "if not os.path.exists(dir + \"\\\\alternative_descriptions_val.csv\"):\n",
    "    generate_alternative_descriptions(API_key,'unique_labels.csv', 'alternative_descriptions_val.csv')\n",
    "\"\"\""
   ]
  },
  {
   "cell_type": "markdown",
   "id": "02c116f2",
   "metadata": {},
   "source": [
    "### 2.3 Embbeding"
   ]
  },
  {
   "cell_type": "code",
   "execution_count": 21,
   "id": "d6cabac6",
   "metadata": {},
   "outputs": [
    {
     "name": "stdout",
     "output_type": "stream",
     "text": [
      "0 / 21008 generated\n",
      "1000 / 21008 generated\n",
      "2000 / 21008 generated\n",
      "3000 / 21008 generated\n",
      "4000 / 21008 generated\n",
      "5000 / 21008 generated\n",
      "6000 / 21008 generated\n",
      "7000 / 21008 generated\n",
      "8000 / 21008 generated\n",
      "9000 / 21008 generated\n",
      "10000 / 21008 generated\n",
      "11000 / 21008 generated\n",
      "12000 / 21008 generated\n",
      "13000 / 21008 generated\n",
      "14000 / 21008 generated\n",
      "15000 / 21008 generated\n",
      "16000 / 21008 generated\n",
      "17000 / 21008 generated\n",
      "18000 / 21008 generated\n",
      "19000 / 21008 generated\n",
      "20000 / 21008 generated\n",
      "21000 / 21008 generated\n",
      "0 / 6976 generated\n",
      "1000 / 6976 generated\n",
      "2000 / 6976 generated\n",
      "3000 / 6976 generated\n",
      "4000 / 6976 generated\n",
      "5000 / 6976 generated\n",
      "6000 / 6976 generated\n",
      "(6976, 1536)\n",
      "(21008, 1536)\n"
     ]
    }
   ],
   "source": [
    "\"\"\"\n",
    "disclaimer the output for alternative descriptions is to cmplicated to be split by csv_read or i am simply to stupid\n",
    "if you use excels text to columns function with delimeter , and save\n",
    "you can use csv_read with delimeter ; afterwards and it works just fine\n",
    "\n",
    "\"\"\"\n",
    "\n",
    "API_key = 'Your API key'\n",
    "\n",
    "if not os.path.exists(dir + \"\\\\embeddings_train.npy\"):\n",
    "    generate_embeddings(API_key, 'train.csv', 'text-embedding-ada-002', 'embeddings_train.npy')\n",
    "if not os.path.exists(dir + \"\\\\embeddings_val.npy\"):\n",
    "    generate_embeddings(API_key, 'val.csv', 'text-embedding-ada-002', 'embeddings_val.npy')\n",
    "\n",
    "print(np.load('embeddings_val.npy').shape)\n",
    "print(np.load('embeddings_train.npy').shape)"
   ]
  },
  {
   "cell_type": "markdown",
   "id": "eb1daf22",
   "metadata": {},
   "source": [
    "# 3 Training\n",
    "\n",
    "---"
   ]
  },
  {
   "cell_type": "markdown",
   "id": "03b90e28",
   "metadata": {},
   "source": [
    "<br>\n",
    "\n",
    "## 3.1 Setting training variables\n",
    "\n",
    "---"
   ]
  },
  {
   "cell_type": "code",
   "execution_count": 3,
   "id": "98cbf51d",
   "metadata": {},
   "outputs": [],
   "source": [
    "\n",
    "dir = r\"F:\\Users\\basti\\Documents\\Goethe Uni\\Data Challange\\muldimodal- Mints\"\n",
    "model_save_path = dir +\"\\\\models\"\n",
    "\n",
    "# specifies image data \n",
    "train, val = dir+\"\\\\train.csv\", dir+\"\\\\val.csv\"\n",
    "\n",
    "# specifies language data\n",
    "train_emb, val_emb   = 'embeddings_train.npy', 'embeddings_val.npy'\n",
    "\n",
    "# specifies output feature size for imageencoder, textencoder and fusionmodel \n",
    "output_features = len(pd.read_csv(train, delimiter=',', skiprows=0, low_memory=False, encoding='iso-8859-1')[\"class\"].unique())\n",
    "\n",
    "\n",
    "\"\"\"\n",
    "set to true if you want to apply augments\n",
    "should increase performance slightly (roughly 2-3%)\n",
    "but also increases training time\n",
    "\"\"\"\n",
    "use_augments = False\n",
    "\n",
    "if use_augments:\n",
    "    train_augmentations = transforms.Compose([\n",
    "    transforms.ToPILImage(),\n",
    "    transforms.ColorJitter(brightness=0.2, contrast=0.2, saturation=0.2),\n",
    "    transforms.RandomRotation(15),\n",
    "    transforms.RandomHorizontalFlip(p=0.5),\n",
    "    transforms.ToTensor(),  # convert images to tensors\n",
    "    transforms.Normalize(mean=[0.5, 0.5, 0.5], std=[0.5, 0.5, 0.5]),  # normalize images\n",
    "    transforms.Resize((299, 299))\n",
    "    ])\n",
    "else:\n",
    "    train_augmentations = transforms.Compose([\n",
    "    transforms.ToTensor(),  # convert images to tensors\n",
    "    transforms.Normalize(mean=[0.5, 0.5, 0.5], std=[0.5, 0.5, 0.5]),  # normalize images\n",
    "    transforms.Resize((299, 299))\n",
    "    ])"
   ]
  },
  {
   "cell_type": "markdown",
   "id": "67f63c5b",
   "metadata": {},
   "source": [
    "## 3.2 ImageEncoder Training\n",
    "\n",
    "---"
   ]
  },
  {
   "cell_type": "code",
   "execution_count": 4,
   "id": "93b64907",
   "metadata": {},
   "outputs": [
    {
     "name": "stdout",
     "output_type": "stream",
     "text": [
      "cuda\n",
      "21008\n",
      "torch.Size([16, 3, 299, 299]) torch.Size([16, 83]) torch.Size([16])\n",
      "data loaded\n"
     ]
    }
   ],
   "source": [
    "model = models.resnet18(weights=ResNet18_Weights.DEFAULT)\n",
    "\n",
    "model.fc = nn.Linear(model.fc.in_features, output_features)\n",
    "\n",
    "# hyperparameters can be set here. Check ModelTrainer.py for details. If not specified differently default values of the Modeltrainer have been used \n",
    "Solver = ModelTrainer(model=model,  \n",
    "            train_path=train,\n",
    "            train_embedding_path=train_emb, \n",
    "            val_path=val,\n",
    "            val_embedding_path=val_emb, \n",
    "            train_augmentations=train_augmentations,\n",
    "            save_path=model_save_path,\n",
    "            postfix='ImageEncoder_ResNet18',\n",
    "            batch_size=16\n",
    "            )"
   ]
  },
  {
   "cell_type": "code",
   "execution_count": 5,
   "id": "b8bac9cb",
   "metadata": {},
   "outputs": [
    {
     "data": {
      "application/vnd.jupyter.widget-view+json": {
       "model_id": "3453933c5976493a8d8030d89c18a752",
       "version_major": 2,
       "version_minor": 0
      },
      "text/plain": [
       "  0%|          | 0/10 [00:00<?, ?it/s]"
      ]
     },
     "metadata": {},
     "output_type": "display_data"
    },
    {
     "name": "stdout",
     "output_type": "stream",
     "text": [
      "Epoch 1/10\n",
      "----------\n",
      "train Loss: 1.9933 Acc: 0.4923\n",
      "val Loss: 1.4453 Acc: 0.6056\n",
      "Epoch 2/10\n",
      "----------\n",
      "train Loss: 1.1967 Acc: 0.6757\n",
      "val Loss: 1.0872 Acc: 0.6894\n",
      "Epoch 3/10\n",
      "----------\n",
      "train Loss: 0.8009 Acc: 0.7788\n",
      "val Loss: 0.9384 Acc: 0.7337\n",
      "Epoch 4/10\n",
      "----------\n",
      "train Loss: 0.5101 Acc: 0.8616\n",
      "val Loss: 0.9338 Acc: 0.7431\n",
      "Epoch 5/10\n",
      "----------\n",
      "train Loss: 0.1908 Acc: 0.9585\n",
      "val Loss: 0.7539 Acc: 0.7942\n",
      "Epoch 6/10\n",
      "----------\n",
      "train Loss: 0.0858 Acc: 0.9881\n",
      "val Loss: 0.7467 Acc: 0.8002\n",
      "Epoch 7/10\n",
      "----------\n",
      "train Loss: 0.0513 Acc: 0.9941\n",
      "val Loss: 0.8016 Acc: 0.7858\n",
      "Epoch 8/10\n",
      "----------\n",
      "train Loss: 0.0367 Acc: 0.9955\n",
      "val Loss: 0.8876 Acc: 0.7681\n",
      "Epoch 9/10\n",
      "----------\n",
      "train Loss: 0.0148 Acc: 0.9994\n",
      "val Loss: 0.7210 Acc: 0.8126\n",
      "Epoch 10/10\n",
      "----------\n",
      "train Loss: 0.0070 Acc: 0.9999\n",
      "val Loss: 0.7317 Acc: 0.8081\n"
     ]
    },
    {
     "data": {
      "image/png": "[encoded data removed]",
      "text/plain": [
       "<Figure size 640x480 with 2 Axes>"
      ]
     },
     "metadata": {},
     "output_type": "display_data"
    },
    {
     "name": "stdout",
     "output_type": "stream",
     "text": [
      "\n",
      "Best val Acc: 0.812643\n"
     ]
    },
    {
     "data": {
      "text/plain": [
       "ResNet(\n",
       "  (conv1): Conv2d(3, 64, kernel_size=(7, 7), stride=(2, 2), padding=(3, 3), bias=False)\n",
       "  (bn1): BatchNorm2d(64, eps=1e-05, momentum=0.1, affine=True, track_running_stats=True)\n",
       "  (relu): ReLU(inplace=True)\n",
       "  (maxpool): MaxPool2d(kernel_size=3, stride=2, padding=1, dilation=1, ceil_mode=False)\n",
       "  (layer1): Sequential(\n",
       "    (0): BasicBlock(\n",
       "      (conv1): Conv2d(64, 64, kernel_size=(3, 3), stride=(1, 1), padding=(1, 1), bias=False)\n",
       "      (bn1): BatchNorm2d(64, eps=1e-05, momentum=0.1, affine=True, track_running_stats=True)\n",
       "      (relu): ReLU(inplace=True)\n",
       "      (conv2): Conv2d(64, 64, kernel_size=(3, 3), stride=(1, 1), padding=(1, 1), bias=False)\n",
       "      (bn2): BatchNorm2d(64, eps=1e-05, momentum=0.1, affine=True, track_running_stats=True)\n",
       "    )\n",
       "    (1): BasicBlock(\n",
       "      (conv1): Conv2d(64, 64, kernel_size=(3, 3), stride=(1, 1), padding=(1, 1), bias=False)\n",
       "      (bn1): BatchNorm2d(64, eps=1e-05, momentum=0.1, affine=True, track_running_stats=True)\n",
       "      (relu): ReLU(inplace=True)\n",
       "      (conv2): Conv2d(64, 64, kernel_size=(3, 3), stride=(1, 1), padding=(1, 1), bias=False)\n",
       "      (bn2): BatchNorm2d(64, eps=1e-05, momentum=0.1, affine=True, track_running_stats=True)\n",
       "    )\n",
       "  )\n",
       "  (layer2): Sequential(\n",
       "    (0): BasicBlock(\n",
       "      (conv1): Conv2d(64, 128, kernel_size=(3, 3), stride=(2, 2), padding=(1, 1), bias=False)\n",
       "      (bn1): BatchNorm2d(128, eps=1e-05, momentum=0.1, affine=True, track_running_stats=True)\n",
       "      (relu): ReLU(inplace=True)\n",
       "      (conv2): Conv2d(128, 128, kernel_size=(3, 3), stride=(1, 1), padding=(1, 1), bias=False)\n",
       "      (bn2): BatchNorm2d(128, eps=1e-05, momentum=0.1, affine=True, track_running_stats=True)\n",
       "      (downsample): Sequential(\n",
       "        (0): Conv2d(64, 128, kernel_size=(1, 1), stride=(2, 2), bias=False)\n",
       "        (1): BatchNorm2d(128, eps=1e-05, momentum=0.1, affine=True, track_running_stats=True)\n",
       "      )\n",
       "    )\n",
       "    (1): BasicBlock(\n",
       "      (conv1): Conv2d(128, 128, kernel_size=(3, 3), stride=(1, 1), padding=(1, 1), bias=False)\n",
       "      (bn1): BatchNorm2d(128, eps=1e-05, momentum=0.1, affine=True, track_running_stats=True)\n",
       "      (relu): ReLU(inplace=True)\n",
       "      (conv2): Conv2d(128, 128, kernel_size=(3, 3), stride=(1, 1), padding=(1, 1), bias=False)\n",
       "      (bn2): BatchNorm2d(128, eps=1e-05, momentum=0.1, affine=True, track_running_stats=True)\n",
       "    )\n",
       "  )\n",
       "  (layer3): Sequential(\n",
       "    (0): BasicBlock(\n",
       "      (conv1): Conv2d(128, 256, kernel_size=(3, 3), stride=(2, 2), padding=(1, 1), bias=False)\n",
       "      (bn1): BatchNorm2d(256, eps=1e-05, momentum=0.1, affine=True, track_running_stats=True)\n",
       "      (relu): ReLU(inplace=True)\n",
       "      (conv2): Conv2d(256, 256, kernel_size=(3, 3), stride=(1, 1), padding=(1, 1), bias=False)\n",
       "      (bn2): BatchNorm2d(256, eps=1e-05, momentum=0.1, affine=True, track_running_stats=True)\n",
       "      (downsample): Sequential(\n",
       "        (0): Conv2d(128, 256, kernel_size=(1, 1), stride=(2, 2), bias=False)\n",
       "        (1): BatchNorm2d(256, eps=1e-05, momentum=0.1, affine=True, track_running_stats=True)\n",
       "      )\n",
       "    )\n",
       "    (1): BasicBlock(\n",
       "      (conv1): Conv2d(256, 256, kernel_size=(3, 3), stride=(1, 1), padding=(1, 1), bias=False)\n",
       "      (bn1): BatchNorm2d(256, eps=1e-05, momentum=0.1, affine=True, track_running_stats=True)\n",
       "      (relu): ReLU(inplace=True)\n",
       "      (conv2): Conv2d(256, 256, kernel_size=(3, 3), stride=(1, 1), padding=(1, 1), bias=False)\n",
       "      (bn2): BatchNorm2d(256, eps=1e-05, momentum=0.1, affine=True, track_running_stats=True)\n",
       "    )\n",
       "  )\n",
       "  (layer4): Sequential(\n",
       "    (0): BasicBlock(\n",
       "      (conv1): Conv2d(256, 512, kernel_size=(3, 3), stride=(2, 2), padding=(1, 1), bias=False)\n",
       "      (bn1): BatchNorm2d(512, eps=1e-05, momentum=0.1, affine=True, track_running_stats=True)\n",
       "      (relu): ReLU(inplace=True)\n",
       "      (conv2): Conv2d(512, 512, kernel_size=(3, 3), stride=(1, 1), padding=(1, 1), bias=False)\n",
       "      (bn2): BatchNorm2d(512, eps=1e-05, momentum=0.1, affine=True, track_running_stats=True)\n",
       "      (downsample): Sequential(\n",
       "        (0): Conv2d(256, 512, kernel_size=(1, 1), stride=(2, 2), bias=False)\n",
       "        (1): BatchNorm2d(512, eps=1e-05, momentum=0.1, affine=True, track_running_stats=True)\n",
       "      )\n",
       "    )\n",
       "    (1): BasicBlock(\n",
       "      (conv1): Conv2d(512, 512, kernel_size=(3, 3), stride=(1, 1), padding=(1, 1), bias=False)\n",
       "      (bn1): BatchNorm2d(512, eps=1e-05, momentum=0.1, affine=True, track_running_stats=True)\n",
       "      (relu): ReLU(inplace=True)\n",
       "      (conv2): Conv2d(512, 512, kernel_size=(3, 3), stride=(1, 1), padding=(1, 1), bias=False)\n",
       "      (bn2): BatchNorm2d(512, eps=1e-05, momentum=0.1, affine=True, track_running_stats=True)\n",
       "    )\n",
       "  )\n",
       "  (avgpool): AdaptiveAvgPool2d(output_size=(1, 1))\n",
       "  (fc): Linear(in_features=512, out_features=83, bias=True)\n",
       ")"
      ]
     },
     "execution_count": 5,
     "metadata": {},
     "output_type": "execute_result"
    }
   ],
   "source": [
    "\n",
    "Solver.train()"
   ]
  },
  {
   "cell_type": "markdown",
   "id": "b61bcbc7",
   "metadata": {},
   "source": [
    "## 3.3 TextEncoder Training\n",
    "\n",
    "---"
   ]
  },
  {
   "cell_type": "code",
   "execution_count": 4,
   "id": "e1a0f447",
   "metadata": {},
   "outputs": [
    {
     "name": "stdout",
     "output_type": "stream",
     "text": [
      "cuda\n",
      "21008\n",
      "torch.Size([4, 3, 299, 299]) torch.Size([4, 83]) torch.Size([4, 1536])\n",
      "data loaded\n"
     ]
    }
   ],
   "source": [
    "\n",
    "model = TextClassefier(input_size=1536, hidden_size=10000, output_size=output_features)\n",
    "\n",
    "# hyperparameters can be set here. Check ModelTrainer.py for details. If not specified differently default values of the Modeltrainer have been used \n",
    "Solver = ModelTrainer(model=model,  \n",
    "            train_path=train, \n",
    "           train_embedding_path=train_emb, \n",
    "            val_path=val,\n",
    "            val_embedding_path=val_emb, \n",
    "            train_augmentations=train_augmentations,\n",
    "            save_path=model_save_path,\n",
    "            postfix='TextEncoder',\n",
    "            batch_size=4\n",
    "            )"
   ]
  },
  {
   "cell_type": "code",
   "execution_count": 5,
   "id": "811c3644",
   "metadata": {},
   "outputs": [
    {
     "data": {
      "application/vnd.jupyter.widget-view+json": {
       "model_id": "8409596cb58f4481b7057e30faf0f839",
       "version_major": 2,
       "version_minor": 0
      },
      "text/plain": [
       "  0%|          | 0/10 [00:00<?, ?it/s]"
      ]
     },
     "metadata": {},
     "output_type": "display_data"
    },
    {
     "name": "stdout",
     "output_type": "stream",
     "text": [
      "Epoch 1/10\n",
      "----------\n",
      "train Loss: 2.0621 Acc: 0.5017\n",
      "val Loss: 1.3816 Acc: 0.6461\n",
      "Epoch 2/10\n",
      "----------\n",
      "train Loss: 1.1664 Acc: 0.6937\n",
      "val Loss: 0.9771 Acc: 0.7480\n",
      "Epoch 3/10\n",
      "----------\n",
      "train Loss: 0.9056 Acc: 0.7551\n",
      "val Loss: 0.8123 Acc: 0.7810\n",
      "Epoch 4/10\n",
      "----------\n",
      "train Loss: 0.7542 Acc: 0.7935\n",
      "val Loss: 0.6892 Acc: 0.8129\n",
      "Epoch 5/10\n",
      "----------\n",
      "train Loss: 0.5842 Acc: 0.8381\n",
      "val Loss: 0.5965 Acc: 0.8380\n",
      "Epoch 6/10\n",
      "----------\n",
      "train Loss: 0.5245 Acc: 0.8519\n",
      "val Loss: 0.5609 Acc: 0.8486\n",
      "Epoch 7/10\n",
      "----------\n",
      "train Loss: 0.4799 Acc: 0.8636\n",
      "val Loss: 0.5252 Acc: 0.8595\n",
      "Epoch 8/10\n",
      "----------\n",
      "train Loss: 0.4419 Acc: 0.8746\n",
      "val Loss: 0.5019 Acc: 0.8635\n",
      "Epoch 9/10\n",
      "----------\n",
      "train Loss: 0.3717 Acc: 0.8927\n",
      "val Loss: 0.4679 Acc: 0.8783\n",
      "Epoch 10/10\n",
      "----------\n",
      "train Loss: 0.3483 Acc: 0.8986\n",
      "val Loss: 0.4383 Acc: 0.8817\n"
     ]
    },
    {
     "data": {
      "image/png": "[encoded data removed]",
      "text/plain": [
       "<Figure size 640x480 with 2 Axes>"
      ]
     },
     "metadata": {},
     "output_type": "display_data"
    },
    {
     "name": "stdout",
     "output_type": "stream",
     "text": [
      "\n",
      "Best val Acc: 0.881737\n"
     ]
    },
    {
     "data": {
      "text/plain": [
       "TextClassefier(\n",
       "  (fc1): Linear(in_features=1536, out_features=10000, bias=True)\n",
       "  (relu): ReLU()\n",
       "  (fc2): Linear(in_features=10000, out_features=10000, bias=True)\n",
       "  (fc3): Linear(in_features=10000, out_features=83, bias=True)\n",
       "  (dropout): Dropout(p=0.5, inplace=False)\n",
       ")"
      ]
     },
     "execution_count": 5,
     "metadata": {},
     "output_type": "execute_result"
    }
   ],
   "source": [
    "Solver.train(mulitmodal=True)"
   ]
  },
  {
   "cell_type": "markdown",
   "id": "9bcac6b7",
   "metadata": {},
   "source": [
    "## 3.4 Fusion Model Training\n",
    "\n",
    "---"
   ]
  },
  {
   "cell_type": "code",
   "execution_count": 4,
   "id": "92e6a2b3",
   "metadata": {},
   "outputs": [
    {
     "name": "stdout",
     "output_type": "stream",
     "text": [
      "cuda\n",
      "21008\n",
      "torch.Size([4, 3, 299, 299]) torch.Size([4, 83]) torch.Size([4, 1536])\n",
      "data loaded\n"
     ]
    }
   ],
   "source": [
    "TextModel = TextClassefier(input_size=1536, hidden_size=10000, output_size=output_features)\n",
    "image_encoder = dir + \"\\\\models\\modelImageEncoder_ResNet18.tar\"\n",
    "text_encoder = dir + \"\\\\models\\modelTextEncoder.tar\"\n",
    "model = Fusion(image_encoder, text_encoder, TextModel, output_size=output_features)\n",
    "\n",
    "# hyperparameters can be set here. Check ModelTrainer.py for details. If not specified differently default values of the Modeltrainer have been used \n",
    "Solver = ModelTrainer(model=model,  \n",
    "            train_path=train, \n",
    "           train_embedding_path=train_emb, \n",
    "            val_path=val,\n",
    "            val_embedding_path=val_emb, \n",
    "            train_augmentations=train_augmentations,\n",
    "            save_path=model_save_path,\n",
    "            postfix='Fusion',\n",
    "            batch_size=4,\n",
    "            )"
   ]
  },
  {
   "cell_type": "code",
   "execution_count": 5,
   "id": "5d526834",
   "metadata": {},
   "outputs": [
    {
     "data": {
      "application/vnd.jupyter.widget-view+json": {
       "model_id": "a2c77bfc8ea248e0a02e5745e6a19c71",
       "version_major": 2,
       "version_minor": 0
      },
      "text/plain": [
       "  0%|          | 0/10 [00:00<?, ?it/s]"
      ]
     },
     "metadata": {},
     "output_type": "display_data"
    },
    {
     "name": "stdout",
     "output_type": "stream",
     "text": [
      "Epoch 1/10\n",
      "----------\n",
      "train Loss: 1.1639 Acc: 0.7286\n",
      "val Loss: 0.5948 Acc: 0.8350\n",
      "Epoch 2/10\n",
      "----------\n",
      "train Loss: 0.3796 Acc: 0.9027\n",
      "val Loss: 0.3848 Acc: 0.8918\n",
      "Epoch 3/10\n",
      "----------\n",
      "train Loss: 0.2204 Acc: 0.9410\n",
      "val Loss: 0.3718 Acc: 0.9001\n",
      "Epoch 4/10\n",
      "----------\n",
      "train Loss: 0.1584 Acc: 0.9568\n",
      "val Loss: 0.3911 Acc: 0.8945\n",
      "Epoch 5/10\n",
      "----------\n",
      "train Loss: 0.0860 Acc: 0.9771\n",
      "val Loss: 0.3420 Acc: 0.9098\n",
      "Epoch 6/10\n",
      "----------\n",
      "train Loss: 0.0732 Acc: 0.9794\n",
      "val Loss: 0.3400 Acc: 0.9146\n",
      "Epoch 7/10\n",
      "----------\n",
      "train Loss: 0.0651 Acc: 0.9816\n",
      "val Loss: 0.3934 Acc: 0.9008\n",
      "Epoch 8/10\n",
      "----------\n",
      "train Loss: 0.0574 Acc: 0.9845\n",
      "val Loss: 0.3787 Acc: 0.9037\n",
      "Epoch 9/10\n",
      "----------\n",
      "train Loss: 0.0423 Acc: 0.9884\n",
      "val Loss: 0.3555 Acc: 0.9144\n",
      "Epoch 10/10\n",
      "----------\n",
      "train Loss: 0.0374 Acc: 0.9893\n",
      "val Loss: 0.3262 Acc: 0.9213\n"
     ]
    },
    {
     "data": {
      "image/png": "[encoded data removed]",
      "text/plain": [
       "<Figure size 640x480 with 2 Axes>"
      ]
     },
     "metadata": {},
     "output_type": "display_data"
    },
    {
     "name": "stdout",
     "output_type": "stream",
     "text": [
      "\n",
      "Best val Acc: 0.921302\n"
     ]
    },
    {
     "data": {
      "text/plain": [
       "Fusion(\n",
       "  (visual_embedding_model): ResNet(\n",
       "    (conv1): Conv2d(3, 64, kernel_size=(7, 7), stride=(2, 2), padding=(3, 3), bias=False)\n",
       "    (bn1): BatchNorm2d(64, eps=1e-05, momentum=0.1, affine=True, track_running_stats=True)\n",
       "    (relu): ReLU(inplace=True)\n",
       "    (maxpool): MaxPool2d(kernel_size=3, stride=2, padding=1, dilation=1, ceil_mode=False)\n",
       "    (layer1): Sequential(\n",
       "      (0): BasicBlock(\n",
       "        (conv1): Conv2d(64, 64, kernel_size=(3, 3), stride=(1, 1), padding=(1, 1), bias=False)\n",
       "        (bn1): BatchNorm2d(64, eps=1e-05, momentum=0.1, affine=True, track_running_stats=True)\n",
       "        (relu): ReLU(inplace=True)\n",
       "        (conv2): Conv2d(64, 64, kernel_size=(3, 3), stride=(1, 1), padding=(1, 1), bias=False)\n",
       "        (bn2): BatchNorm2d(64, eps=1e-05, momentum=0.1, affine=True, track_running_stats=True)\n",
       "      )\n",
       "      (1): BasicBlock(\n",
       "        (conv1): Conv2d(64, 64, kernel_size=(3, 3), stride=(1, 1), padding=(1, 1), bias=False)\n",
       "        (bn1): BatchNorm2d(64, eps=1e-05, momentum=0.1, affine=True, track_running_stats=True)\n",
       "        (relu): ReLU(inplace=True)\n",
       "        (conv2): Conv2d(64, 64, kernel_size=(3, 3), stride=(1, 1), padding=(1, 1), bias=False)\n",
       "        (bn2): BatchNorm2d(64, eps=1e-05, momentum=0.1, affine=True, track_running_stats=True)\n",
       "      )\n",
       "    )\n",
       "    (layer2): Sequential(\n",
       "      (0): BasicBlock(\n",
       "        (conv1): Conv2d(64, 128, kernel_size=(3, 3), stride=(2, 2), padding=(1, 1), bias=False)\n",
       "        (bn1): BatchNorm2d(128, eps=1e-05, momentum=0.1, affine=True, track_running_stats=True)\n",
       "        (relu): ReLU(inplace=True)\n",
       "        (conv2): Conv2d(128, 128, kernel_size=(3, 3), stride=(1, 1), padding=(1, 1), bias=False)\n",
       "        (bn2): BatchNorm2d(128, eps=1e-05, momentum=0.1, affine=True, track_running_stats=True)\n",
       "        (downsample): Sequential(\n",
       "          (0): Conv2d(64, 128, kernel_size=(1, 1), stride=(2, 2), bias=False)\n",
       "          (1): BatchNorm2d(128, eps=1e-05, momentum=0.1, affine=True, track_running_stats=True)\n",
       "        )\n",
       "      )\n",
       "      (1): BasicBlock(\n",
       "        (conv1): Conv2d(128, 128, kernel_size=(3, 3), stride=(1, 1), padding=(1, 1), bias=False)\n",
       "        (bn1): BatchNorm2d(128, eps=1e-05, momentum=0.1, affine=True, track_running_stats=True)\n",
       "        (relu): ReLU(inplace=True)\n",
       "        (conv2): Conv2d(128, 128, kernel_size=(3, 3), stride=(1, 1), padding=(1, 1), bias=False)\n",
       "        (bn2): BatchNorm2d(128, eps=1e-05, momentum=0.1, affine=True, track_running_stats=True)\n",
       "      )\n",
       "    )\n",
       "    (layer3): Sequential(\n",
       "      (0): BasicBlock(\n",
       "        (conv1): Conv2d(128, 256, kernel_size=(3, 3), stride=(2, 2), padding=(1, 1), bias=False)\n",
       "        (bn1): BatchNorm2d(256, eps=1e-05, momentum=0.1, affine=True, track_running_stats=True)\n",
       "        (relu): ReLU(inplace=True)\n",
       "        (conv2): Conv2d(256, 256, kernel_size=(3, 3), stride=(1, 1), padding=(1, 1), bias=False)\n",
       "        (bn2): BatchNorm2d(256, eps=1e-05, momentum=0.1, affine=True, track_running_stats=True)\n",
       "        (downsample): Sequential(\n",
       "          (0): Conv2d(128, 256, kernel_size=(1, 1), stride=(2, 2), bias=False)\n",
       "          (1): BatchNorm2d(256, eps=1e-05, momentum=0.1, affine=True, track_running_stats=True)\n",
       "        )\n",
       "      )\n",
       "      (1): BasicBlock(\n",
       "        (conv1): Conv2d(256, 256, kernel_size=(3, 3), stride=(1, 1), padding=(1, 1), bias=False)\n",
       "        (bn1): BatchNorm2d(256, eps=1e-05, momentum=0.1, affine=True, track_running_stats=True)\n",
       "        (relu): ReLU(inplace=True)\n",
       "        (conv2): Conv2d(256, 256, kernel_size=(3, 3), stride=(1, 1), padding=(1, 1), bias=False)\n",
       "        (bn2): BatchNorm2d(256, eps=1e-05, momentum=0.1, affine=True, track_running_stats=True)\n",
       "      )\n",
       "    )\n",
       "    (layer4): Sequential(\n",
       "      (0): BasicBlock(\n",
       "        (conv1): Conv2d(256, 512, kernel_size=(3, 3), stride=(2, 2), padding=(1, 1), bias=False)\n",
       "        (bn1): BatchNorm2d(512, eps=1e-05, momentum=0.1, affine=True, track_running_stats=True)\n",
       "        (relu): ReLU(inplace=True)\n",
       "        (conv2): Conv2d(512, 512, kernel_size=(3, 3), stride=(1, 1), padding=(1, 1), bias=False)\n",
       "        (bn2): BatchNorm2d(512, eps=1e-05, momentum=0.1, affine=True, track_running_stats=True)\n",
       "        (downsample): Sequential(\n",
       "          (0): Conv2d(256, 512, kernel_size=(1, 1), stride=(2, 2), bias=False)\n",
       "          (1): BatchNorm2d(512, eps=1e-05, momentum=0.1, affine=True, track_running_stats=True)\n",
       "        )\n",
       "      )\n",
       "      (1): BasicBlock(\n",
       "        (conv1): Conv2d(512, 512, kernel_size=(3, 3), stride=(1, 1), padding=(1, 1), bias=False)\n",
       "        (bn1): BatchNorm2d(512, eps=1e-05, momentum=0.1, affine=True, track_running_stats=True)\n",
       "        (relu): ReLU(inplace=True)\n",
       "        (conv2): Conv2d(512, 512, kernel_size=(3, 3), stride=(1, 1), padding=(1, 1), bias=False)\n",
       "        (bn2): BatchNorm2d(512, eps=1e-05, momentum=0.1, affine=True, track_running_stats=True)\n",
       "      )\n",
       "    )\n",
       "    (avgpool): AdaptiveAvgPool2d(output_size=(1, 1))\n",
       "    (fc): Linear(in_features=512, out_features=83, bias=True)\n",
       "  )\n",
       "  (text_embedding_model): TextClassefier(\n",
       "    (fc1): Linear(in_features=1536, out_features=10000, bias=True)\n",
       "    (relu): ReLU()\n",
       "    (fc2): Linear(in_features=10000, out_features=10000, bias=True)\n",
       "    (fc3): Linear(in_features=10000, out_features=83, bias=True)\n",
       "    (dropout): Dropout(p=0.5, inplace=False)\n",
       "  )\n",
       "  (fc1): Linear(in_features=166, out_features=120, bias=True)\n",
       "  (fc2): Linear(in_features=120, out_features=120, bias=True)\n",
       "  (relu): ReLU()\n",
       "  (fc3): Linear(in_features=120, out_features=83, bias=True)\n",
       "  (dropout): Dropout(p=0.5, inplace=False)\n",
       ")"
      ]
     },
     "execution_count": 5,
     "metadata": {},
     "output_type": "execute_result"
    }
   ],
   "source": [
    "# multimodel = True allows for the embbeding to be processed by the model. Has to be false if conventinal imagemodels are supposed to be trained\n",
    "Solver.train(mulitmodal=True)"
   ]
  },
  {
   "cell_type": "markdown",
   "id": "8d2a4651",
   "metadata": {},
   "source": [
    "# 4 Summary\n",
    "\n",
    "---"
   ]
  },
  {
   "cell_type": "code",
   "execution_count": 7,
   "id": "858c1361",
   "metadata": {},
   "outputs": [
    {
     "name": "stdout",
     "output_type": "stream",
     "text": [
      "Summary of results: \n",
      "\n",
      "Best valdiation accuracy ImageEncoder:   81.26433486238533 %\n",
      "Best valdiation accuracy TextEncoder:   88.17373853211011 %\n",
      "Best valdiation accuracy FusionModel:   92.13016055045871 %\n"
     ]
    }
   ],
   "source": [
    "print('Summary of results: \\n')\n",
    "checkpoint = torch.load(dir + \"\\\\models\\\\statsImageEncoder_ResNet18.tar\")\n",
    "acc = []\n",
    "for i in checkpoint['val_acc']:\n",
    "    acc.append(i.item())\n",
    "print('Best valdiation accuracy ImageEncoder:  ', max(acc)*100, '%')\n",
    "checkpoint = torch.load(dir +\"\\\\models\\\\statsTextEncoder.tar\")\n",
    "acc = []\n",
    "for i in checkpoint['val_acc']:\n",
    "    acc.append(i.item())\n",
    "print('Best valdiation accuracy TextEncoder:  ', max(acc)*100, '%')\n",
    "checkpoint = torch.load(dir +\"\\\\models\\\\statsFusion.tar\")\n",
    "acc = []\n",
    "for i in checkpoint['val_acc']:\n",
    "    acc.append(i.item())\n",
    "print('Best valdiation accuracy FusionModel:  ', max(acc)*100, '%')"
   ]
  }
 ],
 "metadata": {
  "kernelspec": {
   "display_name": "Python 3 (ipykernel)",
   "language": "python",
   "name": "python3"
  },
  "language_info": {
   "codemirror_mode": {
    "name": "ipython",
    "version": 3
   },
   "file_extension": ".py",
   "mimetype": "text/x-python",
   "name": "python",
   "nbconvert_exporter": "python",
   "pygments_lexer": "ipython3",
   "version": "3.10.9"
  }
 },
 "nbformat": 4,
 "nbformat_minor": 5
}
