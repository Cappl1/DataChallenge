{
 "cells": [
  {
   "cell_type": "markdown",
   "id": "9e8a24cb",
   "metadata": {},
   "source": [
    "# Corpus Nummorum (CN) Data Challange\n",
    "\n",
    "---\n",
    "\n",
    "**Goethe University Frankfurt am Main**\n",
    "\n",
    "Summer Semester 2023\n",
    "\n",
    "<br>\n",
    "\n",
    "## *Multimodal Fusion Model for  historical coin classification*\n",
    "\n",
    "---\n",
    "\n",
    "**Authors:** Bastian Rothenburger, Garegin Ktoian \n",
    "<br>\n",
    "\n",
    "**Contact:** Bastian Rothenburger ([s7072002@rz.uni-frankfurt.de](mailto:s7072002@rz.uni-frankfurt.de))<br>\n",
    "\n",
    "---"
   ]
  },
  {
   "cell_type": "markdown",
   "id": "650784bc",
   "metadata": {},
   "source": [
    "<br>\n",
    "\n",
    "## Table of Contents\n",
    "\n",
    "---\n",
    "\n",
    "- [1 Dataset Preparation](#1-Dataset-Preparation)\n",
    "  - [1.1 Copy data to working directory](#1.1-Copy-data-to-working-directory)\n",
    "  - [1.2 Drop classes below training threshold and merge back and frontside](#1.2-Drop-classes-below-training-threshold-and-merge-back-and-frontside)\n",
    "  - [1.3 Apply train test split](#1.3-Apply-train-test-split)\n",
    "  - [1.4 Add original coin descriptions](#1.4-Add-original-coin-descriptions)\n",
    "- [2 Generation and embedding of alternative descriptions](#2-Generation-and-embedding-of-alternative-descriptions)\n",
    "  - [2.1 Unique descriptions](#2.1-Unique-descriptions)\n",
    "  - [2.2 Alternative descriptions](#2.2-Alternative-descriptions)\n",
    "  - [2.3 Embbeding](#2.3-Embbeding)\n",
    "- [3 Training](#3-Training)\n",
    "  - [3.1 Setting training variables](#3.1-Setting-training-variables)\n",
    "  - [3.2 ImageEncoder Training](#3.2-ImageEncoder-Training)\n",
    "  - [3.3 TextEncoder Training](#3.3-TextEncoder-Training)\n",
    "  - [3.4 Fusion Model Training](#3.4-Fusion-Model-Training)\n",
    "- [4 Summary](#4-Summary)"
   ]
  },
  {
   "cell_type": "markdown",
   "id": "6d1a9531",
   "metadata": {},
   "source": [
    "<br>\n",
    "\n",
    "## Setup\n",
    "\n",
    "---"
   ]
  },
  {
   "cell_type": "code",
   "execution_count": 1,
   "id": "77d35f9e",
   "metadata": {},
   "outputs": [
    {
     "name": "stdout",
     "output_type": "stream",
     "text": [
      "cuda:0\n"
     ]
    }
   ],
   "source": [
    "\n",
    "from ModelTrainer import ModelTrainer\n",
    "import torchvision\n",
    "from torchvision.models.resnet import resnet50, ResNet50_Weights, resnet18, ResNet18_Weights, resnet101, ResNet101_Weights \n",
    "from torchvision.models import swin_v2_b ,Swin_V2_B_Weights\n",
    "import torchvision.models as models\n",
    "import torch\n",
    "import torchvision.transforms as transforms\n",
    "import torch.nn as nn\n",
    "import pandas as pd\n",
    "import os\n",
    "import matplotlib.pyplot as plt\n",
    "import numpy as np\n",
    "from DataPrep import copy_data_folder, create_csv_dataset, drop_empty_classes, merge_images, add_class_index, split_dataset, val_train_csv, add_type_description_to_csv, sanity_check\n",
    "from ChatGptHelper import extract_unique_labels, generate_alternative_descriptions, generate_embeddings\n",
    "from Architectures import TextClassefier, Transformer_TextClassifier, Fusion, Fusion_From_Scratch\n",
    "# Check GPU support on your machine.\n",
    "device = torch.device('cuda:0' if torch.cuda.is_available() else 'cpu')\n",
    "\n",
    "print(device)\n",
    "%load_ext autoreload\n",
    "%autoreload 2"
   ]
  },
  {
   "cell_type": "code",
   "execution_count": 2,
   "id": "da504161",
   "metadata": {},
   "outputs": [],
   "source": [
    "#specify path to root folder\n",
    "\n",
    "dir = r\"F:\\Users\\basti\\Documents\\Goethe Uni\\Data Challange\\Multimodal - Types\""
   ]
  },
  {
   "cell_type": "markdown",
   "id": "e757bb4f",
   "metadata": {},
   "source": [
    "# 1 Dataset Preparation\n",
    "\n",
    "---"
   ]
  },
  {
   "attachments": {},
   "cell_type": "markdown",
   "id": "fad52b65",
   "metadata": {},
   "source": [
    "### 1.1 Copy data to working directory"
   ]
  },
  {
   "cell_type": "code",
   "execution_count": 3,
   "id": "2e96c4ef",
   "metadata": {},
   "outputs": [],
   "source": [
    "Path_to_coin_dataset = r\"F:\\Users\\basti\\Documents\\Goethe Uni\\Data Challange\\CN_dataset_04_23\\dataset_coins - Original\"\n",
    "destination_path = dir+ \"\\\\data\\\\dataset_coins\"\n",
    "\n",
    "if not os.path.exists(destination_path):\n",
    "    copy_data_folder(Path_to_coin_dataset, dir+ \"\\\\data\\\\dataset_coins\" )"
   ]
  },
  {
   "cell_type": "markdown",
   "id": "8f94a88b",
   "metadata": {},
   "source": [
    "### 1.2 Drop classes below training threshold and merge back and frontside"
   ]
  },
  {
   "cell_type": "code",
   "execution_count": 4,
   "id": "6b1be985",
   "metadata": {},
   "outputs": [],
   "source": [
    "#data prep\n",
    "# Create the dataset CSV file\n",
    "IMAGE_DIR = dir + \"\\\\data\\\\dataset_coins\"\n",
    "CSV_FILE = \"allcoins.csv\"\n",
    "\n",
    "create_csv_dataset(IMAGE_DIR, CSV_FILE)\n",
    "\n",
    "#clean classes with not enough samples\n",
    "#specify threshold\n",
    "thresh = 20\n",
    "drop_empty_classes(IMAGE_DIR, CSV_FILE, thresh)\n",
    "CSV_FILE2 = \"trainablecoins.csv\"\n",
    "create_csv_dataset(IMAGE_DIR, CSV_FILE2)\n",
    "\n",
    "#merge front and backside and add black bars at the top and bottom\n",
    "merge_images(CSV_FILE2, dir+'\\\\data\\\\merged_coins')\n",
    "CSV_FILE3 = \"mergedcoins.csv\"\n",
    "IMAGE_DIR = dir + \"\\\\data\\\\merged_coins\"\n",
    "create_csv_dataset(IMAGE_DIR, CSV_FILE3)\n",
    "\n",
    "# we add a class index in order to make the labels trainable\n",
    "# the reverse mapping is saved at class_index_map.pkl as a python dict this can be used to translate\n",
    "# the prediction of the model to the real coin\n",
    "add_class_index(CSV_FILE3)"
   ]
  },
  {
   "cell_type": "markdown",
   "id": "8b7d9246",
   "metadata": {},
   "source": [
    "### 1.3 Apply train test split"
   ]
  },
  {
   "cell_type": "code",
   "execution_count": 48,
   "id": "497169bb",
   "metadata": {},
   "outputs": [],
   "source": [
    "# only run this one time\n",
    "# this allows for adding augmentations just to the training and not to the validation set\n",
    "\n",
    "Already_splitted = True\n",
    "if not Already_splitted:\n",
    "    dataset_path = dir + \"\\\\data\\\\merged_coins\"\n",
    "    train_path = dir + \"\\\\data\\\\train\"\n",
    "    validation_path = dir + \"\\\\data\\\\val\"\n",
    "    validation_percentage = 0.25 \n",
    "    seed = 123\n",
    "    split_dataset(dataset_path, train_path, validation_path, validation_percentage, seed)\n",
    "    \n",
    "val_train_csv('mergedcoins.csv', train_path, dir, 'train.csv')\n",
    "val_train_csv('mergedcoins.csv', validation_path, dir, 'val.csv')"
   ]
  },
  {
   "cell_type": "markdown",
   "id": "b3ee7ad5",
   "metadata": {},
   "source": [
    "### 1.4 Add original coin descriptions"
   ]
  },
  {
   "cell_type": "code",
   "execution_count": 50,
   "id": "e1e6c6d7",
   "metadata": {},
   "outputs": [
    {
     "name": "stderr",
     "output_type": "stream",
     "text": [
      "f:\\Users\\basti\\Documents\\Goethe Uni\\Data Challange\\multimodal - Types\\DataPrep.py:223: FutureWarning: In a future version of pandas all arguments of StringMethods.split except for the argument 'pat' will be keyword-only.\n",
      "  df2[['id', 'description']] = df2['combined'].str.split(',', 1, expand=True)\n",
      "f:\\Users\\basti\\Documents\\Goethe Uni\\Data Challange\\multimodal - Types\\DataPrep.py:223: FutureWarning: In a future version of pandas all arguments of StringMethods.split except for the argument 'pat' will be keyword-only.\n",
      "  df2[['id', 'description']] = df2['combined'].str.split(',', 1, expand=True)\n"
     ]
    }
   ],
   "source": [
    "add_type_description_to_csv('train.csv', 'CN_coin_descriptions.csv', 'train.csv')\n",
    "add_type_description_to_csv('val.csv', 'CN_coin_descriptions.csv', 'val.csv')\n",
    "\n",
    "#Sanity check\n",
    "sanity_check('train.csv', 'val.csv', thresh)"
   ]
  },
  {
   "attachments": {},
   "cell_type": "markdown",
   "id": "69a4fe39",
   "metadata": {},
   "source": [
    "# 2 Generation and embedding of alternative descriptions\n",
    "\n",
    "---"
   ]
  },
  {
   "cell_type": "markdown",
   "id": "b09a6a4e",
   "metadata": {},
   "source": [
    "### 2.1 Unique descriptions"
   ]
  },
  {
   "cell_type": "code",
   "execution_count": 52,
   "id": "886d5134",
   "metadata": {},
   "outputs": [],
   "source": [
    "# doing this for just the training set is sufficient as classes match\n",
    "#reason for this are the api costs\n",
    "extract_unique_labels('train.csv', 'unique_labels.csv')"
   ]
  },
  {
   "cell_type": "markdown",
   "id": "41e29d32",
   "metadata": {},
   "source": [
    "### 2.2 Alternative descriptions"
   ]
  },
  {
   "cell_type": "code",
   "execution_count": 53,
   "id": "c8b2cd49",
   "metadata": {},
   "outputs": [],
   "source": [
    "\"\"\"\n",
    "You need an API key to run this\n",
    "We used GPT4 \n",
    "Standard open AI accounts will only have access to weaker models (as of the the time of the experiment)\n",
    "We recommend using text-davinci-003 in this case\n",
    "In order to specify the model go to ChatGptHelper and change it in get_alternative_description\n",
    "Takes roughly 50 min for 95 classes\n",
    "Also you have to clean the resulting file manually we are not sure what causes the issues\n",
    "All descriptions should be there but some will extend to the second column\n",
    "\"\"\"\n",
    "\n",
    "API_key = 'Your API key'\n",
    "\n",
    "if not os.path.exists(dir + \"\\\\alternative_descriptions_train.csv\"):\n",
    "    generate_alternative_descriptions(API_key, 'unique_labels.csv', 'alternative_descriptions_train.csv')\n",
    "if not os.path.exists(dir + \"\\\\alternative_descriptions_val.csv\"):\n",
    "    generate_alternative_descriptions(API_key,'unique_labels.csv', 'alternative_descriptions_val.csv')\n"
   ]
  },
  {
   "cell_type": "markdown",
   "id": "02c116f2",
   "metadata": {},
   "source": [
    "### 2.3 Embbeding"
   ]
  },
  {
   "cell_type": "code",
   "execution_count": 32,
   "id": "d6cabac6",
   "metadata": {},
   "outputs": [
    {
     "name": "stdout",
     "output_type": "stream",
     "text": [
      "Total embeding processes with  0 problems\n",
      "Total embeding processes with  0 problems\n",
      "(95, 10, 1536)\n",
      "(95, 10, 1536)\n"
     ]
    }
   ],
   "source": [
    "\"\"\"\n",
    "disclaimer the output for alternative descriptions is to cmplicated to be split by csv_read or i am simply to stupid\n",
    "if you use excels text to columns function with delimeter , and save\n",
    "you can use csv_read with delimeter ; afterwards and it works just fine\n",
    "\n",
    "\"\"\"\n",
    "\n",
    "API_key = 'Your API key'\n",
    "\n",
    "if not os.path.exists(dir + \"\\\\embeddings_train_alternative.npy\"):\n",
    "    generate_embeddings(API_key, 'alternative_descriptions_train.csv', 'text-embedding-ada-002', 'embeddings_train_alternative.npy')\n",
    "if not os.path.exists(dir + \"\\\\embeddings_val_alternative.npy\"):\n",
    "    generate_embeddings(API_key, 'alternative_descriptions_val.csv', 'text-embedding-ada-002', 'embeddings_val_alternative.npy')\n",
    "\n",
    "print(np.load('embeddings_val_alternative.npy').shape)\n",
    "print(np.load('embeddings_train_alternative.npy').shape)"
   ]
  },
  {
   "cell_type": "markdown",
   "id": "eb1daf22",
   "metadata": {},
   "source": [
    "# 3 Training\n",
    "\n",
    "---"
   ]
  },
  {
   "cell_type": "markdown",
   "id": "03b90e28",
   "metadata": {},
   "source": [
    "<br>\n",
    "\n",
    "## 3.1 Setting training variables\n",
    "\n",
    "---"
   ]
  },
  {
   "cell_type": "code",
   "execution_count": 3,
   "id": "98cbf51d",
   "metadata": {},
   "outputs": [],
   "source": [
    "\n",
    "dir = r\"F:\\Users\\basti\\Documents\\Goethe Uni\\Data Challange\\multimodal - Types\"\n",
    "model_save_path = dir +\"\\\\models\"\n",
    "\n",
    "# specifies image data \n",
    "train, val = dir+\"\\\\train.csv\", dir+\"\\\\val.csv\"\n",
    "\n",
    "# specifies language data\n",
    "train_emb, val_emb   = 'embeddings_train_alternative.npy', 'embeddings_val_alternative.npy'\n",
    "\n",
    "# specifies output feature size for imageencoder, textencoder and fusionmodel \n",
    "output_features = len(pd.read_csv(train, delimiter=',', skiprows=0, low_memory=False, encoding='iso-8859-1')[\"class\"].unique())\n",
    "\n",
    "\n",
    "\"\"\"\n",
    "set to true if you want to apply augments\n",
    "should increase performance slightly (roughly 2-3%)\n",
    "but also increases training time\n",
    "\"\"\"\n",
    "use_augments = False\n",
    "\n",
    "if use_augments:\n",
    "    train_augmentations = transforms.Compose([\n",
    "    transforms.ToPILImage(),\n",
    "    transforms.ColorJitter(brightness=0.2, contrast=0.2, saturation=0.2),\n",
    "    transforms.RandomRotation(15),\n",
    "    transforms.RandomHorizontalFlip(p=0.5),\n",
    "    transforms.ToTensor(),  # convert images to tensors\n",
    "    transforms.Normalize(mean=[0.5, 0.5, 0.5], std=[0.5, 0.5, 0.5]),  # normalize images\n",
    "    transforms.Resize((299, 299))\n",
    "    ])\n",
    "else:\n",
    "    train_augmentations = transforms.Compose([\n",
    "    transforms.ToTensor(),  # convert images to tensors\n",
    "    transforms.Normalize(mean=[0.5, 0.5, 0.5], std=[0.5, 0.5, 0.5]),  # normalize images\n",
    "    transforms.Resize((299, 299))\n",
    "    ])"
   ]
  },
  {
   "cell_type": "markdown",
   "id": "67f63c5b",
   "metadata": {},
   "source": [
    "## 3.2 ImageEncoder Training\n",
    "\n",
    "---"
   ]
  },
  {
   "cell_type": "code",
   "execution_count": 5,
   "id": "93b64907",
   "metadata": {},
   "outputs": [
    {
     "name": "stdout",
     "output_type": "stream",
     "text": [
      "cuda\n",
      "2445\n",
      "torch.Size([16, 3, 299, 299]) torch.Size([16, 95]) torch.Size([16, 1536])\n",
      "data loaded\n"
     ]
    }
   ],
   "source": [
    "model = models.resnet18(weights=ResNet18_Weights.DEFAULT)\n",
    "\n",
    "model.fc = nn.Linear(model.fc.in_features, output_features)\n",
    "\n",
    "# hyperparameters can be set here. Check ModelTrainer.py for details. If not specified differently default values of the Modeltrainer have been used \n",
    "Solver = ModelTrainer(model=model,  \n",
    "            train_path=train,\n",
    "            train_embedding_path=train_emb, \n",
    "            val_path=val,\n",
    "            val_embedding_path=val_emb, \n",
    "            train_augmentations=train_augmentations,\n",
    "            save_path=model_save_path,\n",
    "            postfix='ImageEncoder_ResNet18',\n",
    "            batch_size=16\n",
    "            )"
   ]
  },
  {
   "cell_type": "code",
   "execution_count": 66,
   "id": "b8bac9cb",
   "metadata": {},
   "outputs": [
    {
     "data": {
      "application/vnd.jupyter.widget-view+json": {
       "model_id": "25b176b32062424f870a2bdd21fc0784",
       "version_major": 2,
       "version_minor": 0
      },
      "text/plain": [
       "  0%|          | 0/10 [00:00<?, ?it/s]"
      ]
     },
     "metadata": {},
     "output_type": "display_data"
    },
    {
     "name": "stdout",
     "output_type": "stream",
     "text": [
      "Epoch 1/10\n",
      "----------\n",
      "train Loss: 3.4033 Acc: 0.2131\n",
      "val Loss: 2.5531 Acc: 0.3639\n",
      "Epoch 2/10\n",
      "----------\n",
      "train Loss: 2.1174 Acc: 0.4969\n",
      "val Loss: 1.7389 Acc: 0.5600\n",
      "Epoch 3/10\n",
      "----------\n",
      "train Loss: 1.3051 Acc: 0.7268\n",
      "val Loss: 1.2744 Acc: 0.6787\n",
      "Epoch 4/10\n",
      "----------\n",
      "train Loss: 0.7399 Acc: 0.8806\n",
      "val Loss: 1.1502 Acc: 0.7110\n",
      "Epoch 5/10\n",
      "----------\n",
      "train Loss: 0.3486 Acc: 0.9693\n",
      "val Loss: 0.8912 Acc: 0.7897\n",
      "Epoch 6/10\n",
      "----------\n",
      "train Loss: 0.2207 Acc: 0.9910\n",
      "val Loss: 0.8383 Acc: 0.7935\n",
      "Epoch 7/10\n",
      "----------\n",
      "train Loss: 0.1518 Acc: 0.9971\n",
      "val Loss: 0.8021 Acc: 0.8000\n",
      "Epoch 8/10\n",
      "----------\n",
      "train Loss: 0.1033 Acc: 0.9988\n",
      "val Loss: 0.7903 Acc: 0.8090\n",
      "Epoch 9/10\n",
      "----------\n",
      "train Loss: 0.0766 Acc: 0.9992\n",
      "val Loss: 0.7700 Acc: 0.8077\n",
      "Epoch 10/10\n",
      "----------\n",
      "train Loss: 0.0652 Acc: 0.9996\n",
      "val Loss: 0.7663 Acc: 0.8103\n"
     ]
    },
    {
     "data": {
      "image/png": "[encoded data removed]",
      "text/plain": [
       "<Figure size 640x480 with 2 Axes>"
      ]
     },
     "metadata": {},
     "output_type": "display_data"
    },
    {
     "name": "stdout",
     "output_type": "stream",
     "text": [
      "\n",
      "Best val Acc: 0.810323\n"
     ]
    },
    {
     "data": {
      "text/plain": [
       "ResNet(\n",
       "  (conv1): Conv2d(3, 64, kernel_size=(7, 7), stride=(2, 2), padding=(3, 3), bias=False)\n",
       "  (bn1): BatchNorm2d(64, eps=1e-05, momentum=0.1, affine=True, track_running_stats=True)\n",
       "  (relu): ReLU(inplace=True)\n",
       "  (maxpool): MaxPool2d(kernel_size=3, stride=2, padding=1, dilation=1, ceil_mode=False)\n",
       "  (layer1): Sequential(\n",
       "    (0): BasicBlock(\n",
       "      (conv1): Conv2d(64, 64, kernel_size=(3, 3), stride=(1, 1), padding=(1, 1), bias=False)\n",
       "      (bn1): BatchNorm2d(64, eps=1e-05, momentum=0.1, affine=True, track_running_stats=True)\n",
       "      (relu): ReLU(inplace=True)\n",
       "      (conv2): Conv2d(64, 64, kernel_size=(3, 3), stride=(1, 1), padding=(1, 1), bias=False)\n",
       "      (bn2): BatchNorm2d(64, eps=1e-05, momentum=0.1, affine=True, track_running_stats=True)\n",
       "    )\n",
       "    (1): BasicBlock(\n",
       "      (conv1): Conv2d(64, 64, kernel_size=(3, 3), stride=(1, 1), padding=(1, 1), bias=False)\n",
       "      (bn1): BatchNorm2d(64, eps=1e-05, momentum=0.1, affine=True, track_running_stats=True)\n",
       "      (relu): ReLU(inplace=True)\n",
       "      (conv2): Conv2d(64, 64, kernel_size=(3, 3), stride=(1, 1), padding=(1, 1), bias=False)\n",
       "      (bn2): BatchNorm2d(64, eps=1e-05, momentum=0.1, affine=True, track_running_stats=True)\n",
       "    )\n",
       "  )\n",
       "  (layer2): Sequential(\n",
       "    (0): BasicBlock(\n",
       "      (conv1): Conv2d(64, 128, kernel_size=(3, 3), stride=(2, 2), padding=(1, 1), bias=False)\n",
       "      (bn1): BatchNorm2d(128, eps=1e-05, momentum=0.1, affine=True, track_running_stats=True)\n",
       "      (relu): ReLU(inplace=True)\n",
       "      (conv2): Conv2d(128, 128, kernel_size=(3, 3), stride=(1, 1), padding=(1, 1), bias=False)\n",
       "      (bn2): BatchNorm2d(128, eps=1e-05, momentum=0.1, affine=True, track_running_stats=True)\n",
       "      (downsample): Sequential(\n",
       "        (0): Conv2d(64, 128, kernel_size=(1, 1), stride=(2, 2), bias=False)\n",
       "        (1): BatchNorm2d(128, eps=1e-05, momentum=0.1, affine=True, track_running_stats=True)\n",
       "      )\n",
       "    )\n",
       "    (1): BasicBlock(\n",
       "      (conv1): Conv2d(128, 128, kernel_size=(3, 3), stride=(1, 1), padding=(1, 1), bias=False)\n",
       "      (bn1): BatchNorm2d(128, eps=1e-05, momentum=0.1, affine=True, track_running_stats=True)\n",
       "      (relu): ReLU(inplace=True)\n",
       "      (conv2): Conv2d(128, 128, kernel_size=(3, 3), stride=(1, 1), padding=(1, 1), bias=False)\n",
       "      (bn2): BatchNorm2d(128, eps=1e-05, momentum=0.1, affine=True, track_running_stats=True)\n",
       "    )\n",
       "  )\n",
       "  (layer3): Sequential(\n",
       "    (0): BasicBlock(\n",
       "      (conv1): Conv2d(128, 256, kernel_size=(3, 3), stride=(2, 2), padding=(1, 1), bias=False)\n",
       "      (bn1): BatchNorm2d(256, eps=1e-05, momentum=0.1, affine=True, track_running_stats=True)\n",
       "      (relu): ReLU(inplace=True)\n",
       "      (conv2): Conv2d(256, 256, kernel_size=(3, 3), stride=(1, 1), padding=(1, 1), bias=False)\n",
       "      (bn2): BatchNorm2d(256, eps=1e-05, momentum=0.1, affine=True, track_running_stats=True)\n",
       "      (downsample): Sequential(\n",
       "        (0): Conv2d(128, 256, kernel_size=(1, 1), stride=(2, 2), bias=False)\n",
       "        (1): BatchNorm2d(256, eps=1e-05, momentum=0.1, affine=True, track_running_stats=True)\n",
       "      )\n",
       "    )\n",
       "    (1): BasicBlock(\n",
       "      (conv1): Conv2d(256, 256, kernel_size=(3, 3), stride=(1, 1), padding=(1, 1), bias=False)\n",
       "      (bn1): BatchNorm2d(256, eps=1e-05, momentum=0.1, affine=True, track_running_stats=True)\n",
       "      (relu): ReLU(inplace=True)\n",
       "      (conv2): Conv2d(256, 256, kernel_size=(3, 3), stride=(1, 1), padding=(1, 1), bias=False)\n",
       "      (bn2): BatchNorm2d(256, eps=1e-05, momentum=0.1, affine=True, track_running_stats=True)\n",
       "    )\n",
       "  )\n",
       "  (layer4): Sequential(\n",
       "    (0): BasicBlock(\n",
       "      (conv1): Conv2d(256, 512, kernel_size=(3, 3), stride=(2, 2), padding=(1, 1), bias=False)\n",
       "      (bn1): BatchNorm2d(512, eps=1e-05, momentum=0.1, affine=True, track_running_stats=True)\n",
       "      (relu): ReLU(inplace=True)\n",
       "      (conv2): Conv2d(512, 512, kernel_size=(3, 3), stride=(1, 1), padding=(1, 1), bias=False)\n",
       "      (bn2): BatchNorm2d(512, eps=1e-05, momentum=0.1, affine=True, track_running_stats=True)\n",
       "      (downsample): Sequential(\n",
       "        (0): Conv2d(256, 512, kernel_size=(1, 1), stride=(2, 2), bias=False)\n",
       "        (1): BatchNorm2d(512, eps=1e-05, momentum=0.1, affine=True, track_running_stats=True)\n",
       "      )\n",
       "    )\n",
       "    (1): BasicBlock(\n",
       "      (conv1): Conv2d(512, 512, kernel_size=(3, 3), stride=(1, 1), padding=(1, 1), bias=False)\n",
       "      (bn1): BatchNorm2d(512, eps=1e-05, momentum=0.1, affine=True, track_running_stats=True)\n",
       "      (relu): ReLU(inplace=True)\n",
       "      (conv2): Conv2d(512, 512, kernel_size=(3, 3), stride=(1, 1), padding=(1, 1), bias=False)\n",
       "      (bn2): BatchNorm2d(512, eps=1e-05, momentum=0.1, affine=True, track_running_stats=True)\n",
       "    )\n",
       "  )\n",
       "  (avgpool): AdaptiveAvgPool2d(output_size=(1, 1))\n",
       "  (fc): Linear(in_features=512, out_features=95, bias=True)\n",
       ")"
      ]
     },
     "execution_count": 66,
     "metadata": {},
     "output_type": "execute_result"
    }
   ],
   "source": [
    "\n",
    "Solver.train()"
   ]
  },
  {
   "cell_type": "markdown",
   "id": "b61bcbc7",
   "metadata": {},
   "source": [
    "## 3.3 TextEncoder Training\n",
    "\n",
    "---"
   ]
  },
  {
   "cell_type": "code",
   "execution_count": 4,
   "id": "e1a0f447",
   "metadata": {},
   "outputs": [
    {
     "name": "stdout",
     "output_type": "stream",
     "text": [
      "cuda\n",
      "2445\n",
      "torch.Size([4, 3, 299, 299]) torch.Size([4, 95]) torch.Size([4, 1536])\n",
      "data loaded\n"
     ]
    }
   ],
   "source": [
    "\n",
    "model = TextClassefier(input_size=1536, hidden_size=10000, output_size=output_features)\n",
    "\n",
    "# hyperparameters can be set here. Check ModelTrainer.py for details. If not specified differently default values of the Modeltrainer have been used \n",
    "Solver = ModelTrainer(model=model,  \n",
    "            train_path=train, \n",
    "           train_embedding_path=train_emb, \n",
    "            val_path=val,\n",
    "            val_embedding_path=val_emb, \n",
    "            train_augmentations=train_augmentations,\n",
    "            save_path=model_save_path,\n",
    "            postfix='TextEncoder',\n",
    "            batch_size=4\n",
    "            )"
   ]
  },
  {
   "cell_type": "code",
   "execution_count": 5,
   "id": "811c3644",
   "metadata": {},
   "outputs": [
    {
     "data": {
      "application/vnd.jupyter.widget-view+json": {
       "model_id": "e5600207e3284d0d9f53592c20e69ac4",
       "version_major": 2,
       "version_minor": 0
      },
      "text/plain": [
       "  0%|          | 0/10 [00:00<?, ?it/s]"
      ]
     },
     "metadata": {},
     "output_type": "display_data"
    },
    {
     "name": "stdout",
     "output_type": "stream",
     "text": [
      "Epoch 1/10\n",
      "----------\n",
      "train Loss: 3.5875 Acc: 0.1824\n",
      "val Loss: 2.3568 Acc: 0.3794\n",
      "Epoch 2/10\n",
      "----------\n",
      "train Loss: 1.5332 Acc: 0.5464\n",
      "val Loss: 0.9590 Acc: 0.6671\n",
      "Epoch 3/10\n",
      "----------\n",
      "train Loss: 0.7759 Acc: 0.7297\n",
      "val Loss: 0.6843 Acc: 0.7613\n",
      "Epoch 4/10\n",
      "----------\n",
      "train Loss: 0.5583 Acc: 0.8000\n",
      "val Loss: 0.5712 Acc: 0.7923\n",
      "Epoch 5/10\n",
      "----------\n",
      "train Loss: 0.3911 Acc: 0.8360\n",
      "val Loss: 0.4960 Acc: 0.8039\n",
      "Epoch 6/10\n",
      "----------\n",
      "train Loss: 0.3414 Acc: 0.8503\n",
      "val Loss: 0.4921 Acc: 0.7742\n",
      "Epoch 7/10\n",
      "----------\n",
      "train Loss: 0.2972 Acc: 0.8744\n",
      "val Loss: 0.4491 Acc: 0.7884\n",
      "Epoch 8/10\n",
      "----------\n",
      "train Loss: 0.2818 Acc: 0.8773\n",
      "val Loss: 0.4102 Acc: 0.8077\n",
      "Epoch 9/10\n",
      "----------\n",
      "train Loss: 0.2355 Acc: 0.8986\n",
      "val Loss: 0.4608 Acc: 0.8206\n",
      "Epoch 10/10\n",
      "----------\n",
      "train Loss: 0.2265 Acc: 0.9031\n",
      "val Loss: 0.4793 Acc: 0.8103\n"
     ]
    },
    {
     "data": {
      "image/png": "[encoded data removed]",
      "text/plain": [
       "<Figure size 640x480 with 2 Axes>"
      ]
     },
     "metadata": {},
     "output_type": "display_data"
    },
    {
     "name": "stdout",
     "output_type": "stream",
     "text": [
      "\n",
      "Best val Acc: 0.820645\n"
     ]
    },
    {
     "data": {
      "text/plain": [
       "TextClassefier(\n",
       "  (fc1): Linear(in_features=1536, out_features=10000, bias=True)\n",
       "  (relu): ReLU()\n",
       "  (fc2): Linear(in_features=10000, out_features=10000, bias=True)\n",
       "  (fc3): Linear(in_features=10000, out_features=95, bias=True)\n",
       "  (dropout): Dropout(p=0.5, inplace=False)\n",
       ")"
      ]
     },
     "execution_count": 5,
     "metadata": {},
     "output_type": "execute_result"
    }
   ],
   "source": [
    "Solver.train(mulitmodal=True)"
   ]
  },
  {
   "cell_type": "markdown",
   "id": "9bcac6b7",
   "metadata": {},
   "source": [
    "## 3.4 Fusion Model Training\n",
    "\n",
    "---"
   ]
  },
  {
   "cell_type": "code",
   "execution_count": 6,
   "id": "92e6a2b3",
   "metadata": {},
   "outputs": [
    {
     "name": "stdout",
     "output_type": "stream",
     "text": [
      "cuda\n",
      "2445\n",
      "torch.Size([4, 3, 299, 299]) torch.Size([4, 95]) torch.Size([4, 1536])\n",
      "data loaded\n"
     ]
    }
   ],
   "source": [
    "TextModel = TextClassefier(input_size=1536, hidden_size=10000, output_size=output_features)\n",
    "image_encoder = dir + \"\\\\models\\modelImageEncoder_ResNet18.tar\"\n",
    "text_encoder = dir + \"\\\\models\\modelTextEncoder.tar\"\n",
    "model = Fusion(image_encoder, text_encoder, TextModel, output_size=output_features)\n",
    "\n",
    "# hyperparameters can be set here. Check ModelTrainer.py for details. If not specified differently default values of the Modeltrainer have been used \n",
    "Solver = ModelTrainer(model=model,  \n",
    "            train_path=train, \n",
    "           train_embedding_path=train_emb, \n",
    "            val_path=val,\n",
    "            val_embedding_path=val_emb, \n",
    "            train_augmentations=train_augmentations,\n",
    "            save_path=model_save_path,\n",
    "            postfix='TR0_Res18_types_with_des_78_multimodal',\n",
    "            batch_size=4,\n",
    "            )"
   ]
  },
  {
   "cell_type": "code",
   "execution_count": 14,
   "id": "5d526834",
   "metadata": {},
   "outputs": [
    {
     "data": {
      "application/vnd.jupyter.widget-view+json": {
       "model_id": "2362af972359459898b1084bba4fb36e",
       "version_major": 2,
       "version_minor": 0
      },
      "text/plain": [
       "  0%|          | 0/10 [00:00<?, ?it/s]"
      ]
     },
     "metadata": {},
     "output_type": "display_data"
    },
    {
     "name": "stdout",
     "output_type": "stream",
     "text": [
      "Epoch 1/10\n",
      "----------\n",
      "train Loss: 0.1637 Acc: 0.9337\n",
      "val Loss: 0.4893 Acc: 0.8323\n",
      "Epoch 2/10\n",
      "----------\n",
      "train Loss: 0.1665 Acc: 0.9297\n",
      "val Loss: 0.4211 Acc: 0.8516\n",
      "Epoch 3/10\n",
      "----------\n",
      "train Loss: 0.1389 Acc: 0.9374\n",
      "val Loss: 0.4325 Acc: 0.8439\n",
      "Epoch 4/10\n",
      "----------\n",
      "train Loss: 0.1332 Acc: 0.9476\n",
      "val Loss: 0.4234 Acc: 0.8400\n",
      "Epoch 5/10\n",
      "----------\n",
      "train Loss: 0.1289 Acc: 0.9476\n",
      "val Loss: 0.4489 Acc: 0.8439\n",
      "Epoch 6/10\n",
      "----------\n",
      "train Loss: 0.1235 Acc: 0.9493\n",
      "val Loss: 0.4185 Acc: 0.8413\n",
      "Epoch 7/10\n",
      "----------\n",
      "train Loss: 0.1187 Acc: 0.9566\n",
      "val Loss: 0.4143 Acc: 0.8452\n",
      "Epoch 8/10\n",
      "----------\n",
      "train Loss: 0.1205 Acc: 0.9513\n",
      "val Loss: 0.4706 Acc: 0.8284\n",
      "Epoch 9/10\n",
      "----------\n",
      "train Loss: 0.1129 Acc: 0.9562\n",
      "val Loss: 0.3767 Acc: 0.8465\n",
      "Epoch 10/10\n",
      "----------\n",
      "train Loss: 0.1168 Acc: 0.9550\n",
      "val Loss: 0.4589 Acc: 0.8361\n"
     ]
    },
    {
     "data": {
      "image/png": "[encoded data removed]",
      "text/plain": [
       "<Figure size 640x480 with 2 Axes>"
      ]
     },
     "metadata": {},
     "output_type": "display_data"
    },
    {
     "name": "stdout",
     "output_type": "stream",
     "text": [
      "\n",
      "Best val Acc: 0.851613\n"
     ]
    },
    {
     "data": {
      "text/plain": [
       "Fusion(\n",
       "  (visual_embedding_model): ResNet(\n",
       "    (conv1): Conv2d(3, 64, kernel_size=(7, 7), stride=(2, 2), padding=(3, 3), bias=False)\n",
       "    (bn1): BatchNorm2d(64, eps=1e-05, momentum=0.1, affine=True, track_running_stats=True)\n",
       "    (relu): ReLU(inplace=True)\n",
       "    (maxpool): MaxPool2d(kernel_size=3, stride=2, padding=1, dilation=1, ceil_mode=False)\n",
       "    (layer1): Sequential(\n",
       "      (0): BasicBlock(\n",
       "        (conv1): Conv2d(64, 64, kernel_size=(3, 3), stride=(1, 1), padding=(1, 1), bias=False)\n",
       "        (bn1): BatchNorm2d(64, eps=1e-05, momentum=0.1, affine=True, track_running_stats=True)\n",
       "        (relu): ReLU(inplace=True)\n",
       "        (conv2): Conv2d(64, 64, kernel_size=(3, 3), stride=(1, 1), padding=(1, 1), bias=False)\n",
       "        (bn2): BatchNorm2d(64, eps=1e-05, momentum=0.1, affine=True, track_running_stats=True)\n",
       "      )\n",
       "      (1): BasicBlock(\n",
       "        (conv1): Conv2d(64, 64, kernel_size=(3, 3), stride=(1, 1), padding=(1, 1), bias=False)\n",
       "        (bn1): BatchNorm2d(64, eps=1e-05, momentum=0.1, affine=True, track_running_stats=True)\n",
       "        (relu): ReLU(inplace=True)\n",
       "        (conv2): Conv2d(64, 64, kernel_size=(3, 3), stride=(1, 1), padding=(1, 1), bias=False)\n",
       "        (bn2): BatchNorm2d(64, eps=1e-05, momentum=0.1, affine=True, track_running_stats=True)\n",
       "      )\n",
       "    )\n",
       "    (layer2): Sequential(\n",
       "      (0): BasicBlock(\n",
       "        (conv1): Conv2d(64, 128, kernel_size=(3, 3), stride=(2, 2), padding=(1, 1), bias=False)\n",
       "        (bn1): BatchNorm2d(128, eps=1e-05, momentum=0.1, affine=True, track_running_stats=True)\n",
       "        (relu): ReLU(inplace=True)\n",
       "        (conv2): Conv2d(128, 128, kernel_size=(3, 3), stride=(1, 1), padding=(1, 1), bias=False)\n",
       "        (bn2): BatchNorm2d(128, eps=1e-05, momentum=0.1, affine=True, track_running_stats=True)\n",
       "        (downsample): Sequential(\n",
       "          (0): Conv2d(64, 128, kernel_size=(1, 1), stride=(2, 2), bias=False)\n",
       "          (1): BatchNorm2d(128, eps=1e-05, momentum=0.1, affine=True, track_running_stats=True)\n",
       "        )\n",
       "      )\n",
       "      (1): BasicBlock(\n",
       "        (conv1): Conv2d(128, 128, kernel_size=(3, 3), stride=(1, 1), padding=(1, 1), bias=False)\n",
       "        (bn1): BatchNorm2d(128, eps=1e-05, momentum=0.1, affine=True, track_running_stats=True)\n",
       "        (relu): ReLU(inplace=True)\n",
       "        (conv2): Conv2d(128, 128, kernel_size=(3, 3), stride=(1, 1), padding=(1, 1), bias=False)\n",
       "        (bn2): BatchNorm2d(128, eps=1e-05, momentum=0.1, affine=True, track_running_stats=True)\n",
       "      )\n",
       "    )\n",
       "    (layer3): Sequential(\n",
       "      (0): BasicBlock(\n",
       "        (conv1): Conv2d(128, 256, kernel_size=(3, 3), stride=(2, 2), padding=(1, 1), bias=False)\n",
       "        (bn1): BatchNorm2d(256, eps=1e-05, momentum=0.1, affine=True, track_running_stats=True)\n",
       "        (relu): ReLU(inplace=True)\n",
       "        (conv2): Conv2d(256, 256, kernel_size=(3, 3), stride=(1, 1), padding=(1, 1), bias=False)\n",
       "        (bn2): BatchNorm2d(256, eps=1e-05, momentum=0.1, affine=True, track_running_stats=True)\n",
       "        (downsample): Sequential(\n",
       "          (0): Conv2d(128, 256, kernel_size=(1, 1), stride=(2, 2), bias=False)\n",
       "          (1): BatchNorm2d(256, eps=1e-05, momentum=0.1, affine=True, track_running_stats=True)\n",
       "        )\n",
       "      )\n",
       "      (1): BasicBlock(\n",
       "        (conv1): Conv2d(256, 256, kernel_size=(3, 3), stride=(1, 1), padding=(1, 1), bias=False)\n",
       "        (bn1): BatchNorm2d(256, eps=1e-05, momentum=0.1, affine=True, track_running_stats=True)\n",
       "        (relu): ReLU(inplace=True)\n",
       "        (conv2): Conv2d(256, 256, kernel_size=(3, 3), stride=(1, 1), padding=(1, 1), bias=False)\n",
       "        (bn2): BatchNorm2d(256, eps=1e-05, momentum=0.1, affine=True, track_running_stats=True)\n",
       "      )\n",
       "    )\n",
       "    (layer4): Sequential(\n",
       "      (0): BasicBlock(\n",
       "        (conv1): Conv2d(256, 512, kernel_size=(3, 3), stride=(2, 2), padding=(1, 1), bias=False)\n",
       "        (bn1): BatchNorm2d(512, eps=1e-05, momentum=0.1, affine=True, track_running_stats=True)\n",
       "        (relu): ReLU(inplace=True)\n",
       "        (conv2): Conv2d(512, 512, kernel_size=(3, 3), stride=(1, 1), padding=(1, 1), bias=False)\n",
       "        (bn2): BatchNorm2d(512, eps=1e-05, momentum=0.1, affine=True, track_running_stats=True)\n",
       "        (downsample): Sequential(\n",
       "          (0): Conv2d(256, 512, kernel_size=(1, 1), stride=(2, 2), bias=False)\n",
       "          (1): BatchNorm2d(512, eps=1e-05, momentum=0.1, affine=True, track_running_stats=True)\n",
       "        )\n",
       "      )\n",
       "      (1): BasicBlock(\n",
       "        (conv1): Conv2d(512, 512, kernel_size=(3, 3), stride=(1, 1), padding=(1, 1), bias=False)\n",
       "        (bn1): BatchNorm2d(512, eps=1e-05, momentum=0.1, affine=True, track_running_stats=True)\n",
       "        (relu): ReLU(inplace=True)\n",
       "        (conv2): Conv2d(512, 512, kernel_size=(3, 3), stride=(1, 1), padding=(1, 1), bias=False)\n",
       "        (bn2): BatchNorm2d(512, eps=1e-05, momentum=0.1, affine=True, track_running_stats=True)\n",
       "      )\n",
       "    )\n",
       "    (avgpool): AdaptiveAvgPool2d(output_size=(1, 1))\n",
       "    (fc): Linear(in_features=512, out_features=95, bias=True)\n",
       "  )\n",
       "  (text_embedding_model): TextClassefier(\n",
       "    (fc1): Linear(in_features=1536, out_features=10000, bias=True)\n",
       "    (relu): ReLU()\n",
       "    (fc2): Linear(in_features=10000, out_features=10000, bias=True)\n",
       "    (fc3): Linear(in_features=10000, out_features=95, bias=True)\n",
       "    (dropout): Dropout(p=0.5, inplace=False)\n",
       "  )\n",
       "  (fc1): Linear(in_features=190, out_features=120, bias=True)\n",
       "  (fc2): Linear(in_features=120, out_features=120, bias=True)\n",
       "  (relu): ReLU()\n",
       "  (fc3): Linear(in_features=120, out_features=95, bias=True)\n",
       "  (dropout): Dropout(p=0.5, inplace=False)\n",
       ")"
      ]
     },
     "execution_count": 14,
     "metadata": {},
     "output_type": "execute_result"
    }
   ],
   "source": [
    "# multimodel = True allows for the embbeding to be processed by the model. Has to be false if conventinal imagemodels are supposed to be trained\n",
    "Solver.train(mulitmodal=True)"
   ]
  },
  {
   "cell_type": "markdown",
   "id": "8d2a4651",
   "metadata": {},
   "source": [
    "# 4 Summary\n",
    "\n",
    "---"
   ]
  },
  {
   "cell_type": "code",
   "execution_count": 6,
   "id": "858c1361",
   "metadata": {},
   "outputs": [
    {
     "name": "stdout",
     "output_type": "stream",
     "text": [
      "Summary of results: \n",
      "\n",
      "Best valdiation accuracy ImageEncoder:   81.03225806451613 %\n",
      "Best valdiation accuracy TextEncoder:   82.06451612903226 %\n",
      "Best valdiation accuracy FusionModel:   85.16129032258064 %\n"
     ]
    }
   ],
   "source": [
    "print('Summary of results: \\n')\n",
    "checkpoint = torch.load(dir + \"\\\\models\\\\statsImageEncoder_ResNet18.tar\")\n",
    "acc = []\n",
    "for i in checkpoint['val_acc']:\n",
    "    acc.append(i.item())\n",
    "print('Best valdiation accuracy ImageEncoder:  ', max(acc)*100, '%')\n",
    "checkpoint = torch.load(dir +\"\\\\models\\\\statsTextEncoder.tar\")\n",
    "acc = []\n",
    "for i in checkpoint['val_acc']:\n",
    "    acc.append(i.item())\n",
    "print('Best valdiation accuracy TextEncoder:  ', max(acc)*100, '%')\n",
    "checkpoint = torch.load(dir +\"\\\\models\\\\statsTR0_Res18_types_with_des_78_multimodal.tar\")\n",
    "acc = []\n",
    "for i in checkpoint['val_acc']:\n",
    "    acc.append(i.item())\n",
    "print('Best valdiation accuracy FusionModel:  ', max(acc)*100, '%')"
   ]
  }
 ],
 "metadata": {
  "kernelspec": {
   "display_name": "Python 3 (ipykernel)",
   "language": "python",
   "name": "python3"
  },
  "language_info": {
   "codemirror_mode": {
    "name": "ipython",
    "version": 3
   },
   "file_extension": ".py",
   "mimetype": "text/x-python",
   "name": "python",
   "nbconvert_exporter": "python",
   "pygments_lexer": "ipython3",
   "version": "3.10.9"
  }
 },
 "nbformat": 4,
 "nbformat_minor": 5
}
